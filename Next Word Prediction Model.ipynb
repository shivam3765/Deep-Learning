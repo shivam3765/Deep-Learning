{
 "cells": [
  {
   "cell_type": "code",
   "execution_count": 2,
   "metadata": {},
   "outputs": [
    {
     "name": "stdout",
     "output_type": "stream",
     "text": [
      "WARNING:tensorflow:From d:\\ML_Projects\\Deep Learning\\.venv\\lib\\site-packages\\keras\\src\\losses.py:2976: The name tf.losses.sparse_softmax_cross_entropy is deprecated. Please use tf.compat.v1.losses.sparse_softmax_cross_entropy instead.\n",
      "\n"
     ]
    }
   ],
   "source": [
    "import numpy as np\n",
    "import tensorflow as tf\n",
    "from tensorflow.keras.preprocessing.text import Tokenizer\n",
    "from tensorflow.keras.preprocessing.sequence import pad_sequences\n",
    "from tensorflow.keras.models import Sequential\n",
    "from tensorflow.keras.layers import Embedding, LSTM, Dense"
   ]
  },
  {
   "cell_type": "code",
   "execution_count": 3,
   "metadata": {},
   "outputs": [],
   "source": [
    "with open('datasets/sherlock-holm.es_stories_plain-text_advs.txt', 'r', encoding='utf-8') as file:\n",
    "    text = file.read()"
   ]
  },
  {
   "cell_type": "markdown",
   "metadata": {},
   "source": [
    "### let’s tokenize the text to create a sequence of words:"
   ]
  },
  {
   "cell_type": "code",
   "execution_count": 4,
   "metadata": {},
   "outputs": [],
   "source": [
    "tokenizer = Tokenizer()\n",
    "tokenizer.fit_on_texts([text])\n",
    "total_words = len(tokenizer.word_index) + 1"
   ]
  },
  {
   "cell_type": "code",
   "execution_count": 25,
   "metadata": {},
   "outputs": [
    {
     "data": {
      "text/plain": [
       "8200"
      ]
     },
     "execution_count": 25,
     "metadata": {},
     "output_type": "execute_result"
    }
   ],
   "source": [
    "total_words"
   ]
  },
  {
   "cell_type": "markdown",
   "metadata": {},
   "source": [
    "### let’s create input-output pairs by splitting the text into sequences of tokens and forming n-grams from the sequences:"
   ]
  },
  {
   "cell_type": "code",
   "execution_count": 5,
   "metadata": {},
   "outputs": [],
   "source": [
    "input_sequences = []\n",
    "for line in text.split('\\n'):\n",
    "    token_list = tokenizer.texts_to_sequences([line])[0]\n",
    "    for i in range(1, len(token_list)):\n",
    "        n_gram_sequence = token_list[:i+1]\n",
    "        input_sequences.append(n_gram_sequence)"
   ]
  },
  {
   "cell_type": "code",
   "execution_count": 16,
   "metadata": {},
   "outputs": [
    {
     "data": {
      "text/plain": [
       "96314"
      ]
     },
     "execution_count": 16,
     "metadata": {},
     "output_type": "execute_result"
    }
   ],
   "source": [
    "len(input_sequences)"
   ]
  },
  {
   "cell_type": "markdown",
   "metadata": {},
   "source": [
    "### let’s pad the input sequences to have equal length:"
   ]
  },
  {
   "cell_type": "code",
   "execution_count": 7,
   "metadata": {},
   "outputs": [],
   "source": [
    "max_sequence_len = max([len(seq) for seq in input_sequences])\n",
    "input_sequences = np.array(pad_sequences(input_sequences, maxlen=max_sequence_len, padding='pre'))"
   ]
  },
  {
   "cell_type": "code",
   "execution_count": 8,
   "metadata": {},
   "outputs": [],
   "source": [
    "X = input_sequences[:, :-1]\n",
    "y = input_sequences[:, -1]"
   ]
  },
  {
   "cell_type": "code",
   "execution_count": 9,
   "metadata": {},
   "outputs": [],
   "source": [
    "y = np.array(tf.keras.utils.to_categorical(y, num_classes=total_words))"
   ]
  },
  {
   "cell_type": "code",
   "execution_count": 10,
   "metadata": {},
   "outputs": [
    {
     "name": "stdout",
     "output_type": "stream",
     "text": [
      "WARNING:tensorflow:From d:\\ML_Projects\\Deep Learning\\.venv\\lib\\site-packages\\keras\\src\\backend.py:873: The name tf.get_default_graph is deprecated. Please use tf.compat.v1.get_default_graph instead.\n",
      "\n",
      "Model: \"sequential\"\n",
      "_________________________________________________________________\n",
      " Layer (type)                Output Shape              Param #   \n",
      "=================================================================\n",
      " embedding (Embedding)       (None, 17, 100)           820000    \n",
      "                                                                 \n",
      " lstm (LSTM)                 (None, 150)               150600    \n",
      "                                                                 \n",
      " dense (Dense)               (None, 8200)              1238200   \n",
      "                                                                 \n",
      "=================================================================\n",
      "Total params: 2208800 (8.43 MB)\n",
      "Trainable params: 2208800 (8.43 MB)\n",
      "Non-trainable params: 0 (0.00 Byte)\n",
      "_________________________________________________________________\n",
      "None\n"
     ]
    }
   ],
   "source": [
    "model = Sequential()\n",
    "model.add(Embedding(total_words, 100, input_length=max_sequence_len-1))\n",
    "model.add(LSTM(150))\n",
    "model.add(Dense(total_words, activation='softmax'))\n",
    "print(model.summary())"
   ]
  },
  {
   "cell_type": "code",
   "execution_count": 11,
   "metadata": {},
   "outputs": [
    {
     "name": "stdout",
     "output_type": "stream",
     "text": [
      "WARNING:tensorflow:From d:\\ML_Projects\\Deep Learning\\.venv\\lib\\site-packages\\keras\\src\\optimizers\\__init__.py:309: The name tf.train.Optimizer is deprecated. Please use tf.compat.v1.train.Optimizer instead.\n",
      "\n",
      "Epoch 1/100\n",
      "WARNING:tensorflow:From d:\\ML_Projects\\Deep Learning\\.venv\\lib\\site-packages\\keras\\src\\utils\\tf_utils.py:492: The name tf.ragged.RaggedTensorValue is deprecated. Please use tf.compat.v1.ragged.RaggedTensorValue instead.\n",
      "\n",
      "WARNING:tensorflow:From d:\\ML_Projects\\Deep Learning\\.venv\\lib\\site-packages\\keras\\src\\engine\\base_layer_utils.py:384: The name tf.executing_eagerly_outside_functions is deprecated. Please use tf.compat.v1.executing_eagerly_outside_functions instead.\n",
      "\n",
      "3010/3010 [==============================] - 92s 30ms/step - loss: 6.2215 - accuracy: 0.0782\n",
      "Epoch 2/100\n",
      "3010/3010 [==============================] - 96s 32ms/step - loss: 5.4963 - accuracy: 0.1256\n",
      "Epoch 3/100\n",
      "3010/3010 [==============================] - 75s 25ms/step - loss: 5.1150 - accuracy: 0.1472\n",
      "Epoch 4/100\n",
      "3010/3010 [==============================] - 73s 24ms/step - loss: 4.7849 - accuracy: 0.1657\n",
      "Epoch 5/100\n",
      "3010/3010 [==============================] - 77s 26ms/step - loss: 4.4810 - accuracy: 0.1839\n",
      "Epoch 6/100\n",
      "3010/3010 [==============================] - 73s 24ms/step - loss: 4.1966 - accuracy: 0.2038\n",
      "Epoch 7/100\n",
      "3010/3010 [==============================] - 78s 26ms/step - loss: 3.9281 - accuracy: 0.2278\n",
      "Epoch 8/100\n",
      "3010/3010 [==============================] - 82s 27ms/step - loss: 3.6713 - accuracy: 0.2577\n",
      "Epoch 9/100\n",
      "3010/3010 [==============================] - 80s 26ms/step - loss: 3.4290 - accuracy: 0.2901\n",
      "Epoch 10/100\n",
      "3010/3010 [==============================] - 100s 33ms/step - loss: 3.2048 - accuracy: 0.3252\n",
      "Epoch 11/100\n",
      "3010/3010 [==============================] - 112s 37ms/step - loss: 2.9940 - accuracy: 0.3610\n",
      "Epoch 12/100\n",
      "3010/3010 [==============================] - 73s 24ms/step - loss: 2.7995 - accuracy: 0.3961\n",
      "Epoch 13/100\n",
      "3010/3010 [==============================] - 75s 25ms/step - loss: 2.6222 - accuracy: 0.4276\n",
      "Epoch 14/100\n",
      "3010/3010 [==============================] - 75s 25ms/step - loss: 2.4573 - accuracy: 0.4594\n",
      "Epoch 15/100\n",
      "3010/3010 [==============================] - 494s 164ms/step - loss: 2.3042 - accuracy: 0.4908\n",
      "Epoch 16/100\n",
      "3010/3010 [==============================] - 78s 26ms/step - loss: 2.1658 - accuracy: 0.5185\n",
      "Epoch 17/100\n",
      "3010/3010 [==============================] - 76s 25ms/step - loss: 2.0361 - accuracy: 0.5464\n",
      "Epoch 18/100\n",
      "3010/3010 [==============================] - 75s 25ms/step - loss: 1.9191 - accuracy: 0.5703\n",
      "Epoch 19/100\n",
      "3010/3010 [==============================] - 76s 25ms/step - loss: 1.8113 - accuracy: 0.5944\n",
      "Epoch 20/100\n",
      "3010/3010 [==============================] - 77s 25ms/step - loss: 1.7108 - accuracy: 0.6158\n",
      "Epoch 21/100\n",
      "3010/3010 [==============================] - 106s 35ms/step - loss: 1.6196 - accuracy: 0.6360\n",
      "Epoch 22/100\n",
      "3010/3010 [==============================] - 82s 27ms/step - loss: 1.5352 - accuracy: 0.6544\n",
      "Epoch 23/100\n",
      "3010/3010 [==============================] - 75s 25ms/step - loss: 1.4600 - accuracy: 0.6698\n",
      "Epoch 24/100\n",
      "3010/3010 [==============================] - 74s 25ms/step - loss: 1.3878 - accuracy: 0.6867\n",
      "Epoch 25/100\n",
      "3010/3010 [==============================] - 75s 25ms/step - loss: 1.3225 - accuracy: 0.7002\n",
      "Epoch 26/100\n",
      "3010/3010 [==============================] - 74s 25ms/step - loss: 1.2628 - accuracy: 0.7139\n",
      "Epoch 27/100\n",
      "3010/3010 [==============================] - 83s 28ms/step - loss: 1.2081 - accuracy: 0.7261\n",
      "Epoch 28/100\n",
      "3010/3010 [==============================] - 82s 27ms/step - loss: 1.1576 - accuracy: 0.7376\n",
      "Epoch 29/100\n",
      "3010/3010 [==============================] - 75s 25ms/step - loss: 1.1106 - accuracy: 0.7478\n",
      "Epoch 30/100\n",
      "3010/3010 [==============================] - 75s 25ms/step - loss: 1.0652 - accuracy: 0.7589\n",
      "Epoch 31/100\n",
      "3010/3010 [==============================] - 78s 26ms/step - loss: 1.0277 - accuracy: 0.7658\n",
      "Epoch 32/100\n",
      "3010/3010 [==============================] - 78s 26ms/step - loss: 0.9908 - accuracy: 0.7733\n",
      "Epoch 33/100\n",
      "3010/3010 [==============================] - 75s 25ms/step - loss: 0.9542 - accuracy: 0.7820\n",
      "Epoch 34/100\n",
      "3010/3010 [==============================] - 75s 25ms/step - loss: 0.9251 - accuracy: 0.7887\n",
      "Epoch 35/100\n",
      "3010/3010 [==============================] - 91s 30ms/step - loss: 0.8934 - accuracy: 0.7945\n",
      "Epoch 36/100\n",
      "3010/3010 [==============================] - 87s 29ms/step - loss: 0.8701 - accuracy: 0.8010\n",
      "Epoch 37/100\n",
      "3010/3010 [==============================] - 75s 25ms/step - loss: 0.8447 - accuracy: 0.8053\n",
      "Epoch 38/100\n",
      "3010/3010 [==============================] - 77s 26ms/step - loss: 0.8219 - accuracy: 0.8091\n",
      "Epoch 39/100\n",
      "3010/3010 [==============================] - 75s 25ms/step - loss: 0.8018 - accuracy: 0.8146\n",
      "Epoch 40/100\n",
      "3010/3010 [==============================] - 81s 27ms/step - loss: 0.7852 - accuracy: 0.8173\n",
      "Epoch 41/100\n",
      "3010/3010 [==============================] - 82s 27ms/step - loss: 0.7646 - accuracy: 0.8215\n",
      "Epoch 42/100\n",
      "3010/3010 [==============================] - 77s 25ms/step - loss: 0.7473 - accuracy: 0.8254\n",
      "Epoch 43/100\n",
      "3010/3010 [==============================] - 77s 26ms/step - loss: 0.7315 - accuracy: 0.8288\n",
      "Epoch 44/100\n",
      "3010/3010 [==============================] - 75s 25ms/step - loss: 0.7194 - accuracy: 0.8303\n",
      "Epoch 45/100\n",
      "3010/3010 [==============================] - 75s 25ms/step - loss: 0.6988 - accuracy: 0.8357\n",
      "Epoch 46/100\n",
      "3010/3010 [==============================] - 76s 25ms/step - loss: 0.6933 - accuracy: 0.8364\n",
      "Epoch 47/100\n",
      "3010/3010 [==============================] - 77s 25ms/step - loss: 0.6838 - accuracy: 0.8382\n",
      "Epoch 48/100\n",
      "3010/3010 [==============================] - 97s 32ms/step - loss: 0.6706 - accuracy: 0.8411\n",
      "Epoch 49/100\n",
      "3010/3010 [==============================] - 109s 36ms/step - loss: 0.6601 - accuracy: 0.8428\n",
      "Epoch 50/100\n",
      "3010/3010 [==============================] - 107s 36ms/step - loss: 0.6485 - accuracy: 0.8453\n",
      "Epoch 51/100\n",
      "3010/3010 [==============================] - 125s 42ms/step - loss: 0.6414 - accuracy: 0.8474\n",
      "Epoch 52/100\n",
      "3010/3010 [==============================] - 111s 37ms/step - loss: 0.6329 - accuracy: 0.8473\n",
      "Epoch 53/100\n",
      "3010/3010 [==============================] - 118s 39ms/step - loss: 0.6276 - accuracy: 0.8480\n",
      "Epoch 54/100\n",
      "3010/3010 [==============================] - 107s 36ms/step - loss: 0.6182 - accuracy: 0.8510\n",
      "Epoch 55/100\n",
      "3010/3010 [==============================] - 110s 37ms/step - loss: 0.6102 - accuracy: 0.8513\n",
      "Epoch 56/100\n",
      "3010/3010 [==============================] - 113s 38ms/step - loss: 0.6055 - accuracy: 0.8528\n",
      "Epoch 57/100\n",
      "3010/3010 [==============================] - 100s 33ms/step - loss: 0.6044 - accuracy: 0.8525\n",
      "Epoch 58/100\n",
      "3010/3010 [==============================] - 53s 18ms/step - loss: 0.5945 - accuracy: 0.8554\n",
      "Epoch 59/100\n",
      "3010/3010 [==============================] - 53s 17ms/step - loss: 0.5914 - accuracy: 0.8552\n",
      "Epoch 60/100\n",
      "3010/3010 [==============================] - 53s 18ms/step - loss: 0.5886 - accuracy: 0.8550\n",
      "Epoch 61/100\n",
      "3010/3010 [==============================] - 54s 18ms/step - loss: 0.5794 - accuracy: 0.8573\n",
      "Epoch 62/100\n",
      "3010/3010 [==============================] - 54s 18ms/step - loss: 0.5773 - accuracy: 0.8576\n",
      "Epoch 63/100\n",
      "3010/3010 [==============================] - 55s 18ms/step - loss: 0.5716 - accuracy: 0.8583\n",
      "Epoch 64/100\n",
      "3010/3010 [==============================] - 55s 18ms/step - loss: 0.5696 - accuracy: 0.8593\n",
      "Epoch 65/100\n",
      "3010/3010 [==============================] - 55s 18ms/step - loss: 0.5642 - accuracy: 0.8611\n",
      "Epoch 66/100\n",
      "3010/3010 [==============================] - 56s 18ms/step - loss: 0.5636 - accuracy: 0.8598\n",
      "Epoch 67/100\n",
      "3010/3010 [==============================] - 56s 19ms/step - loss: 0.5558 - accuracy: 0.8607\n",
      "Epoch 68/100\n",
      "3010/3010 [==============================] - 56s 19ms/step - loss: 0.5603 - accuracy: 0.8602\n",
      "Epoch 69/100\n",
      "3010/3010 [==============================] - 56s 19ms/step - loss: 0.5571 - accuracy: 0.8606\n",
      "Epoch 70/100\n",
      "3010/3010 [==============================] - 56s 19ms/step - loss: 0.5542 - accuracy: 0.8608\n",
      "Epoch 71/100\n",
      "3010/3010 [==============================] - 57s 19ms/step - loss: 0.5482 - accuracy: 0.8622\n",
      "Epoch 72/100\n",
      "3010/3010 [==============================] - 56s 19ms/step - loss: 0.5497 - accuracy: 0.8612\n",
      "Epoch 73/100\n",
      "3010/3010 [==============================] - 59s 20ms/step - loss: 0.5432 - accuracy: 0.8624\n",
      "Epoch 74/100\n",
      "3010/3010 [==============================] - 61s 20ms/step - loss: 0.5393 - accuracy: 0.8627\n",
      "Epoch 75/100\n",
      "3010/3010 [==============================] - 57s 19ms/step - loss: 0.5427 - accuracy: 0.8622\n",
      "Epoch 76/100\n",
      "3010/3010 [==============================] - 57s 19ms/step - loss: 0.5375 - accuracy: 0.8636\n",
      "Epoch 77/100\n",
      "3010/3010 [==============================] - 57s 19ms/step - loss: 0.5340 - accuracy: 0.8637\n",
      "Epoch 78/100\n",
      "3010/3010 [==============================] - 58s 19ms/step - loss: 0.5381 - accuracy: 0.8630\n",
      "Epoch 79/100\n",
      "3010/3010 [==============================] - 58s 19ms/step - loss: 0.5316 - accuracy: 0.8640\n",
      "Epoch 80/100\n",
      "3010/3010 [==============================] - 58s 19ms/step - loss: 0.5353 - accuracy: 0.8623\n",
      "Epoch 81/100\n",
      "3010/3010 [==============================] - 58s 19ms/step - loss: 0.5324 - accuracy: 0.8634\n",
      "Epoch 82/100\n",
      "3010/3010 [==============================] - 58s 19ms/step - loss: 0.5312 - accuracy: 0.8639\n",
      "Epoch 83/100\n",
      "3010/3010 [==============================] - 59s 19ms/step - loss: 0.5297 - accuracy: 0.8629\n",
      "Epoch 84/100\n",
      "3010/3010 [==============================] - 58s 19ms/step - loss: 0.5289 - accuracy: 0.8640\n",
      "Epoch 85/100\n",
      "3010/3010 [==============================] - 58s 19ms/step - loss: 0.5233 - accuracy: 0.8637\n",
      "Epoch 86/100\n",
      "3010/3010 [==============================] - 59s 20ms/step - loss: 0.5280 - accuracy: 0.8631\n",
      "Epoch 87/100\n",
      "3010/3010 [==============================] - 58s 19ms/step - loss: 0.5203 - accuracy: 0.8660\n",
      "Epoch 88/100\n",
      "3010/3010 [==============================] - 59s 19ms/step - loss: 0.5227 - accuracy: 0.8652\n",
      "Epoch 89/100\n",
      "3010/3010 [==============================] - 58s 19ms/step - loss: 0.5218 - accuracy: 0.8643\n",
      "Epoch 90/100\n",
      "3010/3010 [==============================] - 59s 20ms/step - loss: 0.5209 - accuracy: 0.8645\n",
      "Epoch 91/100\n",
      "3010/3010 [==============================] - 59s 20ms/step - loss: 0.5286 - accuracy: 0.8616\n",
      "Epoch 92/100\n",
      "3010/3010 [==============================] - 58s 19ms/step - loss: 0.5225 - accuracy: 0.8639\n",
      "Epoch 93/100\n",
      "3010/3010 [==============================] - 58s 19ms/step - loss: 0.5228 - accuracy: 0.8629\n",
      "Epoch 94/100\n",
      "3010/3010 [==============================] - 59s 20ms/step - loss: 0.5229 - accuracy: 0.8631\n",
      "Epoch 95/100\n",
      "3010/3010 [==============================] - 59s 20ms/step - loss: 0.5141 - accuracy: 0.8650\n",
      "Epoch 96/100\n",
      "3010/3010 [==============================] - 59s 20ms/step - loss: 0.5204 - accuracy: 0.8633\n",
      "Epoch 97/100\n",
      "3010/3010 [==============================] - 59s 20ms/step - loss: 0.5112 - accuracy: 0.8655\n",
      "Epoch 98/100\n",
      "3010/3010 [==============================] - 59s 20ms/step - loss: 0.5210 - accuracy: 0.8639\n",
      "Epoch 99/100\n",
      "3010/3010 [==============================] - 63s 21ms/step - loss: 0.5168 - accuracy: 0.8642\n",
      "Epoch 100/100\n",
      "3010/3010 [==============================] - 59s 20ms/step - loss: 0.5098 - accuracy: 0.8659\n"
     ]
    },
    {
     "data": {
      "text/plain": [
       "<keras.src.callbacks.History at 0x2616aefda60>"
      ]
     },
     "execution_count": 11,
     "metadata": {},
     "output_type": "execute_result"
    }
   ],
   "source": [
    "model.compile(loss='categorical_crossentropy', optimizer='adam', metrics=['accuracy'])\n",
    "model.fit(X, y, epochs=100, verbose=1)"
   ]
  },
  {
   "cell_type": "code",
   "execution_count": 58,
   "metadata": {},
   "outputs": [
    {
     "name": "stdout",
     "output_type": "stream",
     "text": [
      "1/1 [==============================] - 0s 50ms/step\n",
      "1/1 [==============================] - 0s 32ms/step\n",
      "1/1 [==============================] - 0s 33ms/step\n",
      "I will leave if they would have the\n"
     ]
    }
   ],
   "source": [
    "seed_text = \"I will leave if they\"\n",
    "next_words = 3\n",
    "\n",
    "for _ in range(next_words):\n",
    "    token_list = tokenizer.texts_to_sequences([seed_text])[0]\n",
    "    token_list = pad_sequences([token_list], maxlen=max_sequence_len-1, padding='pre')\n",
    "    predicted = np.argmax(model.predict(token_list), axis=-1)\n",
    "    output_word = \"\"\n",
    "    for word, index in tokenizer.word_index.items():\n",
    "        if index == predicted:\n",
    "            output_word = word\n",
    "            break\n",
    "    seed_text += \" \" + output_word\n",
    "\n",
    "print(seed_text)"
   ]
  }
 ],
 "metadata": {
  "kernelspec": {
   "display_name": ".venv",
   "language": "python",
   "name": "python3"
  },
  "language_info": {
   "codemirror_mode": {
    "name": "ipython",
    "version": 3
   },
   "file_extension": ".py",
   "mimetype": "text/x-python",
   "name": "python",
   "nbconvert_exporter": "python",
   "pygments_lexer": "ipython3",
   "version": "3.9.13"
  }
 },
 "nbformat": 4,
 "nbformat_minor": 2
}
